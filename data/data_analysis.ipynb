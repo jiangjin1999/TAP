{
 "cells": [
  {
   "cell_type": "markdown",
   "metadata": {},
   "source": [
    "## 中文数据分析"
   ]
  },
  {
   "cell_type": "code",
   "execution_count": 23,
   "metadata": {},
   "outputs": [
    {
     "name": "stderr",
     "output_type": "stream",
     "text": [
      "The tokenizer class you load from this checkpoint is not the same type as the class this function is called from. It may result in unexpected tokenization. \n",
      "The tokenizer class you load from this checkpoint is 'BartTokenizer'. \n",
      "The class this function is called from is 'BertTokenizer'.\n"
     ]
    }
   ],
   "source": [
    "from transformers import BertTokenizer,AutoModelForSeq2SeqLM\n",
    "pretrained_model = '/home/users/jiangjin/jiangjin_bupt/ASR_CORRECTION/Cross_modal/TAP/pretrained-model/zh/BART/'\n",
    "zh_Tokenizer=BertTokenizer.from_pretrained(pretrained_model)"
   ]
  },
  {
   "cell_type": "code",
   "execution_count": null,
   "metadata": {},
   "outputs": [],
   "source": []
  },
  {
   "cell_type": "code",
   "execution_count": 24,
   "metadata": {},
   "outputs": [
    {
     "name": "stdout",
     "output_type": "stream",
     "text": [
      "15.405843561091775 17.405843561091775 45\n",
      "15.405843561091775 45\n"
     ]
    }
   ],
   "source": [
    "file_path = '/home/users/jiangjin/jiangjin_bupt/ASR_CORRECTION/Cross_modal/TAP/data/zh/AISHELL-1/AISHELL-1_train.txt'\n",
    "with open(file_path, 'r') as f_data:\n",
    "    data = f_data.readlines()\n",
    "    text = [item.strip().split(' ')[1] for item in data]\n",
    "    token = [zh_Tokenizer(item) for item in text]\n",
    "    token_lengths = [len(item['input_ids']) for item in token]\n",
    "    lengths = [len(item) for item in text]\n",
    "    token_mean_lengths = sum(token_lengths)/len(token_lengths)\n",
    "    mean_lengths = sum(lengths)/len(lengths)\n",
    "    max_length = max(lengths)\n",
    "    print(mean_lengths, token_mean_lengths,max_length)\n",
    "    print(mean_lengths, max_length)"
   ]
  },
  {
   "cell_type": "code",
   "execution_count": 25,
   "metadata": {},
   "outputs": [
    {
     "data": {
      "text/plain": [
       "45"
      ]
     },
     "execution_count": 25,
     "metadata": {},
     "output_type": "execute_result"
    }
   ],
   "source": [
    "lengths.sort(reverse=True)\n",
    "lengths[0]"
   ]
  },
  {
   "cell_type": "code",
   "execution_count": 30,
   "metadata": {},
   "outputs": [
    {
     "name": "stdout",
     "output_type": "stream",
     "text": [
      "10.89748643158182 12.837930929929353 44\n"
     ]
    }
   ],
   "source": [
    "file_path = '/home/users/jiangjin/jiangjin_bupt/ASR_CORRECTION/Cross_modal/TAP/data/zh/AIDATATANG/AIDATATANG_train.txt'\n",
    "with open(file_path, 'r') as f_data:\n",
    "    data = f_data.readlines()\n",
    "    text = [item.strip().split(' ')[1] for item in data]\n",
    "    token = [zh_Tokenizer(item) for item in text]\n",
    "    token_lengths = [len(item['input_ids']) for item in token]\n",
    "    lengths = [len(item) for item in text]\n",
    "    token_mean_lengths = sum(token_lengths)/len(token_lengths)\n",
    "    mean_lengths = sum(lengths)/len(lengths)\n",
    "    max_length = max(lengths)\n",
    "    print(mean_lengths, token_mean_lengths,max_length)\n",
    "    print(mean_lengths, max_length)"
   ]
  },
  {
   "cell_type": "code",
   "execution_count": 31,
   "metadata": {},
   "outputs": [
    {
     "name": "stdout",
     "output_type": "stream",
     "text": [
      "10.887101161683622 12.882964996041697 73\n"
     ]
    }
   ],
   "source": [
    "file_path = '/home/users/jiangjin/jiangjin_bupt/ASR_CORRECTION/Cross_modal/TAP/data/zh/MAGICDATA/MAGICDATA_train.txt'\n",
    "with open(file_path, 'r') as f_data:\n",
    "    data = f_data.readlines()\n",
    "    text = [item.strip().split(' ')[1] for item in data]\n",
    "    token = [zh_Tokenizer(item) for item in text]\n",
    "    token_lengths = [len(item['input_ids']) for item in token]\n",
    "    lengths = [len(item) for item in text]\n",
    "    token_mean_lengths = sum(token_lengths)/len(token_lengths)\n",
    "    mean_lengths = sum(lengths)/len(lengths)\n",
    "    max_length = max(lengths)\n",
    "    print(mean_lengths, token_mean_lengths,max_length)\n",
    "    print(mean_lengths, max_length)"
   ]
  },
  {
   "cell_type": "markdown",
   "metadata": {},
   "source": [
    "## 英文数据分析"
   ]
  },
  {
   "cell_type": "code",
   "execution_count": 32,
   "metadata": {},
   "outputs": [],
   "source": [
    "from transformers import AutoTokenizer\n",
    "pretrained_model = '/home/users/jiangjin/jiangjin_bupt/ASR_CORRECTION/Cross_modal/TAP/pretrained-model/en/BART'\n",
    "en_Tokenizer = AutoTokenizer.from_pretrained(pretrained_model)"
   ]
  },
  {
   "cell_type": "code",
   "execution_count": 33,
   "metadata": {},
   "outputs": [
    {
     "name": "stdout",
     "output_type": "stream",
     "text": [
      "34.59444901284769 41.123626021289596 83\n"
     ]
    }
   ],
   "source": [
    "file_path = '/home/users/jiangjin/jiangjin_bupt/ASR_CORRECTION/Cross_modal/TAP/data/en/LIBRISPEECH_CLEAN/LIBRISPEECH_CLEAN_train.txt'\n",
    "with open(file_path, 'r') as f_data:\n",
    "    data = f_data.readlines()\n",
    "    label = [item.strip().split('|')[1] for item in data]\n",
    "    text = [item.strip().split('|')[2] for item in data]\n",
    "    token = [en_Tokenizer(item) for item in label]\n",
    "    token_lengths = [len(item['input_ids']) for item in token]\n",
    "    lengths = [len(item.split(' ')) for item in label]\n",
    "    token_mean_lengths = sum(token_lengths)/len(token_lengths)\n",
    "    mean_lengths = sum(lengths)/len(lengths)\n",
    "    max_length = max(lengths)\n",
    "    print(mean_lengths, token_mean_lengths,max_length)"
   ]
  },
  {
   "cell_type": "code",
   "execution_count": 13,
   "metadata": {},
   "outputs": [
    {
     "name": "stderr",
     "output_type": "stream",
     "text": [
      "/tmp/ipykernel_6131/3282927130.py:2: FutureWarning: load_metric is deprecated and will be removed in the next major version of datasets. Use 'evaluate.load' instead, from the new library 🤗 Evaluate: https://huggingface.co/docs/evaluate\n",
      "  metric = load_metric('wer')\n",
      "Using the latest cached version of the module from /home/users/jiangjin/.cache/huggingface/modules/datasets_modules/metrics/wer/d435ee8ec9ba888aa5e23b481ea6ce4e88ca1384d5bda6f0528a6dea387e368d (last modified on Tue Dec  7 16:32:47 2021) since it couldn't be found locally at wer, or remotely on the Hugging Face Hub.\n"
     ]
    }
   ],
   "source": [
    "from datasets import load_metric\n",
    "metric = load_metric('wer')"
   ]
  },
  {
   "cell_type": "code",
   "execution_count": 28,
   "metadata": {},
   "outputs": [
    {
     "data": {
      "text/plain": [
       "(\"and sail for the north seas day after he turned away and began to whistle as if he did not wish for any further conversation with his interrogator philip indeed had nothing more to say to him he had learned all he wanted to know i'd like to bid good by to sylvie is she at home he asked of her father.\",\n",
       " \"and sail for the north season's day he turned away and began to whistle as if he did not wish for any further conversation with his interrogator philip indeed had nothing more to say to him he had learned all he wanted to know he was a bit good by to sylvie is she at home he asked of her father.\",\n",
       " 0.0967741935483871)"
      ]
     },
     "execution_count": 28,
     "metadata": {},
     "output_type": "execute_result"
    }
   ],
   "source": [
    "index = 100\n",
    "value = metric.compute(references=[label[index]], predictions=[text[index]])\n",
    "label[index],text[index],value"
   ]
  },
  {
   "cell_type": "code",
   "execution_count": null,
   "metadata": {},
   "outputs": [],
   "source": []
  },
  {
   "cell_type": "markdown",
   "metadata": {},
   "source": [
    "## 中文raw data结果的确认"
   ]
  },
  {
   "cell_type": "markdown",
   "metadata": {},
   "source": [
    "### AISHELL-1"
   ]
  },
  {
   "cell_type": "code",
   "execution_count": 2,
   "metadata": {},
   "outputs": [
    {
     "name": "stderr",
     "output_type": "stream",
     "text": [
      "/tmp/ipykernel_28254/3098461382.py:2: FutureWarning: load_metric is deprecated and will be removed in the next major version of datasets. Use 'evaluate.load' instead, from the new library 🤗 Evaluate: https://huggingface.co/docs/evaluate\n",
      "  metric = load_metric('cer')\n",
      "Using the latest cached version of the module from /home/users/jiangjin/.cache/huggingface/modules/datasets_modules/metrics/cer/0d603b79fde740594c09751048122254b33a79b1c45328bd72ca604534ce8156 (last modified on Tue Dec 14 16:32:40 2021) since it couldn't be found locally at cer, or remotely on the Hugging Face Hub.\n"
     ]
    }
   ],
   "source": [
    "from datasets import load_metric\n",
    "metric = load_metric('cer')\n"
   ]
  },
  {
   "cell_type": "markdown",
   "metadata": {},
   "source": []
  },
  {
   "cell_type": "code",
   "execution_count": 3,
   "metadata": {},
   "outputs": [
    {
     "name": "stderr",
     "output_type": "stream",
     "text": [
      "The tokenizer class you load from this checkpoint is not the same type as the class this function is called from. It may result in unexpected tokenization. \n",
      "The tokenizer class you load from this checkpoint is 'BartTokenizer'. \n",
      "The class this function is called from is 'BertTokenizer'.\n"
     ]
    }
   ],
   "source": [
    "from transformers import BertTokenizer,AutoModelForSeq2SeqLM\n",
    "pretrained_model = '/home/users/jiangjin/jiangjin_bupt/ASR_CORRECTION/Cross_modal/TAP/pretrained-model/zh/BART/'\n",
    "zh_Tokenizer=BertTokenizer.from_pretrained(pretrained_model)"
   ]
  },
  {
   "cell_type": "code",
   "execution_count": 4,
   "metadata": {},
   "outputs": [],
   "source": [
    "file_path = '/home/users/jiangjin/jiangjin_bupt/ASR_CORRECTION/Cross_modal/TAP/data/zh/AISHELL-1/AISHELL-1_test.txt'\n",
    "with open(file_path, 'r') as f_zh_data:\n",
    "    data = f_zh_data.readlines()\n",
    "    utt = [item.split(' ')[0] for item in data]\n",
    "    label = [item.split(' ')[2] for item in data]\n",
    "    record = [item.split(' ')[1] for item in data]\n",
    "metric_value = metric.compute(references=label,predictions=record)"
   ]
  },
  {
   "cell_type": "code",
   "execution_count": 5,
   "metadata": {},
   "outputs": [
    {
     "data": {
      "text/plain": [
       "0.04308167400016065"
      ]
     },
     "execution_count": 5,
     "metadata": {},
     "output_type": "execute_result"
    }
   ],
   "source": [
    "metric_value"
   ]
  },
  {
   "cell_type": "code",
   "execution_count": 6,
   "metadata": {},
   "outputs": [
    {
     "data": {
      "text/plain": [
       "(['甚至出现交易几乎停滞的情况。\\n',\n",
       "  '一二线城市虽然也处于调整中。\\n',\n",
       "  '大因为聚集了过多公共资源。\\n',\n",
       "  '为了规避三四线城市明显过剩的市场风险。\\n',\n",
       "  '标杆房企必然调整市场战略。\\n',\n",
       "  '因此土地储备至关重要。\\n',\n",
       "  '中原地产首席分析师张大伟说。\\n',\n",
       "  '一线城市土地供应量减少。\\n',\n",
       "  '也助推了土地市场的火爆。\\n',\n",
       "  '北京减薪僧住宅土地供应时松。\\n'],\n",
       " ['甚至出现交易几乎停滞的情况。',\n",
       "  '一二线城市虽然也处于调整中。',\n",
       "  '但因为聚集了过多公共资源。',\n",
       "  '为了规避三四线城市明显过剩的市场风险。',\n",
       "  '标杆房企必然调整市场战略。',\n",
       "  '因此土地储备至关重要。',\n",
       "  '中原地产首席分析师张大伟说。',\n",
       "  '一线城市土地供应量减少。',\n",
       "  '也助推了土地市场的火爆。',\n",
       "  '北京仅新增住宅土地供应十宗。'])"
      ]
     },
     "execution_count": 6,
     "metadata": {},
     "output_type": "execute_result"
    }
   ],
   "source": [
    "label[0:10], record[0:10]"
   ]
  },
  {
   "cell_type": "code",
   "execution_count": 7,
   "metadata": {},
   "outputs": [],
   "source": [
    "text_tokenizer = zh_Tokenizer"
   ]
  },
  {
   "cell_type": "code",
   "execution_count": 17,
   "metadata": {},
   "outputs": [],
   "source": [
    "label_ids = text_tokenizer.batch_encode_plus(\n",
    "            label,\n",
    "            # max_length=self.config.max_seq_length,\n",
    "            padding='longest',\n",
    "            return_tensors='pt',\n",
    "            # truncation=True\n",
    "        )\n",
    "record_ids = text_tokenizer.batch_encode_plus(\n",
    "            record,\n",
    "            # max_length=self.config.max_seq_length,\n",
    "            padding='longest',\n",
    "            return_tensors='pt',\n",
    "            # truncation=True\n",
    "        )\n"
   ]
  },
  {
   "cell_type": "code",
   "execution_count": 28,
   "metadata": {},
   "outputs": [
    {
     "data": {
      "text/plain": [
       "torch.Size([7176, 40])"
      ]
     },
     "execution_count": 28,
     "metadata": {},
     "output_type": "execute_result"
    }
   ],
   "source": [
    "record_ids['input_ids'].shape"
   ]
  },
  {
   "cell_type": "code",
   "execution_count": 20,
   "metadata": {},
   "outputs": [],
   "source": [
    "decode_label = text_tokenizer.batch_decode(\n",
    "                    label_ids['input_ids'], skip_special_tokens=True)\n",
    "decode_record = text_tokenizer.batch_decode(\n",
    "                    record_ids['input_ids'], skip_special_tokens=True)"
   ]
  },
  {
   "cell_type": "code",
   "execution_count": 23,
   "metadata": {},
   "outputs": [],
   "source": [
    "decode_label  = [item.replace(' ', '') for item in decode_label]\n",
    "decode_record  = [item.replace(' ', '') for item in decode_record]"
   ]
  },
  {
   "cell_type": "code",
   "execution_count": 24,
   "metadata": {},
   "outputs": [],
   "source": [
    "metric_value = metric.compute(references=decode_label,predictions=decode_record)"
   ]
  },
  {
   "cell_type": "code",
   "execution_count": 25,
   "metadata": {},
   "outputs": [
    {
     "data": {
      "text/plain": [
       "0.04308167400016065"
      ]
     },
     "execution_count": 25,
     "metadata": {},
     "output_type": "execute_result"
    }
   ],
   "source": [
    "metric_value# 和这里的微小差距可能在，"
   ]
  },
  {
   "cell_type": "code",
   "execution_count": 26,
   "metadata": {},
   "outputs": [
    {
     "data": {
      "text/plain": [
       "['甚至出现交易几乎停滞的情况。',\n",
       " '一二线城市虽然也处于调整中。',\n",
       " '大因为聚集了过多公共资源。',\n",
       " '为了规避三四线城市明显过剩的市场风险。',\n",
       " '标杆房企必然调整市场战略。',\n",
       " '因此土地储备至关重要。',\n",
       " '中原地产首席分析师张大伟说。',\n",
       " '一线城市土地供应量减少。',\n",
       " '也助推了土地市场的火爆。',\n",
       " '北京减薪僧住宅土地供应时松。']"
      ]
     },
     "execution_count": 26,
     "metadata": {},
     "output_type": "execute_result"
    }
   ],
   "source": [
    "decode_label[0:10]"
   ]
  },
  {
   "cell_type": "markdown",
   "metadata": {},
   "source": [
    "### AIDATATANG"
   ]
  },
  {
   "cell_type": "code",
   "execution_count": 37,
   "metadata": {},
   "outputs": [],
   "source": [
    "file_path = '/home/users/jiangjin/jiangjin_bupt/ASR_CORRECTION/Cross_modal/TAP/data/zh/AIDATATANG/AIDATATANG_test.txt'\n",
    "with open(file_path, 'r') as f_zh_data:\n",
    "    data = f_zh_data.readlines()\n",
    "    utt = [item.split(' ')[0] for item in data]\n",
    "    label = [item.split(' ')[2] for item in data]\n",
    "    record = [item.split(' ')[1] for item in data]\n",
    "metric_value = metric.compute(references=label,predictions=record)"
   ]
  },
  {
   "cell_type": "code",
   "execution_count": 38,
   "metadata": {},
   "outputs": [
    {
     "data": {
      "text/plain": [
       "0.06674709801510594"
      ]
     },
     "execution_count": 38,
     "metadata": {},
     "output_type": "execute_result"
    }
   ],
   "source": [
    "metric_value"
   ]
  },
  {
   "cell_type": "code",
   "execution_count": 39,
   "metadata": {},
   "outputs": [
    {
     "data": {
      "text/plain": [
       "(['机票广州济南。\\n',\n",
       "  '索马里海域地理位置重要性。\\n',\n",
       "  '找个激情片看一看。\\n',\n",
       "  '来一部好看的电影。\\n',\n",
       "  '我要拍摄二维码。\\n',\n",
       "  '播放原来你什么都不想要。\\n',\n",
       "  '一月十一日上午十八点提醒我。\\n',\n",
       "  '你不是要给我讲个笑话吗。\\n',\n",
       "  '家里面有一个小白兔。\\n',\n",
       "  '明天有没有雨吗。\\n'],\n",
       " ['机票广州济南。',\n",
       "  '索马里海域地理位置重要性。',\n",
       "  '找个激情片看一看。',\n",
       "  '来一部好看的电影。',\n",
       "  '我要拍摄二维码。',\n",
       "  '播放原来你什么都不想要。',\n",
       "  '一月十一日上午十八点提醒我。',\n",
       "  '你不是要给我讲个笑话吗。',\n",
       "  '家里面有一个小白兔。',\n",
       "  '明天有木有雨吗。'])"
      ]
     },
     "execution_count": 39,
     "metadata": {},
     "output_type": "execute_result"
    }
   ],
   "source": [
    "label[0:10], record[0:10]"
   ]
  },
  {
   "cell_type": "code",
   "execution_count": 40,
   "metadata": {},
   "outputs": [],
   "source": [
    "text_tokenizer = zh_Tokenizer"
   ]
  },
  {
   "cell_type": "code",
   "execution_count": 41,
   "metadata": {},
   "outputs": [],
   "source": [
    "label_ids = text_tokenizer.batch_encode_plus(\n",
    "            label,\n",
    "            # max_length=self.config.max_seq_length,\n",
    "            padding='longest',\n",
    "            return_tensors='pt',\n",
    "            # truncation=True\n",
    "        )\n",
    "record_ids = text_tokenizer.batch_encode_plus(\n",
    "            record,\n",
    "            # max_length=self.config.max_seq_length,\n",
    "            padding='longest',\n",
    "            return_tensors='pt',\n",
    "            # truncation=True\n",
    "        )\n"
   ]
  },
  {
   "cell_type": "code",
   "execution_count": 42,
   "metadata": {},
   "outputs": [
    {
     "data": {
      "text/plain": [
       "torch.Size([48144, 40])"
      ]
     },
     "execution_count": 42,
     "metadata": {},
     "output_type": "execute_result"
    }
   ],
   "source": [
    "record_ids['input_ids'].shape"
   ]
  },
  {
   "cell_type": "code",
   "execution_count": 43,
   "metadata": {},
   "outputs": [],
   "source": [
    "decode_label = text_tokenizer.batch_decode(\n",
    "                    label_ids['input_ids'], skip_special_tokens=True)\n",
    "decode_record = text_tokenizer.batch_decode(\n",
    "                    record_ids['input_ids'], skip_special_tokens=True)"
   ]
  },
  {
   "cell_type": "code",
   "execution_count": 33,
   "metadata": {},
   "outputs": [],
   "source": [
    "decode_label  = [item.replace(' ', '') for item in decode_label]\n",
    "decode_record  = [item.replace(' ', '') for item in decode_record]"
   ]
  },
  {
   "cell_type": "code",
   "execution_count": 34,
   "metadata": {},
   "outputs": [],
   "source": [
    "metric_value = metric.compute(references=decode_label,predictions=decode_record)"
   ]
  },
  {
   "cell_type": "code",
   "execution_count": 35,
   "metadata": {},
   "outputs": [
    {
     "data": {
      "text/plain": [
       "0.04308167400016065"
      ]
     },
     "execution_count": 35,
     "metadata": {},
     "output_type": "execute_result"
    }
   ],
   "source": [
    "metric_value# 和这里的微小差距可能在，"
   ]
  },
  {
   "cell_type": "code",
   "execution_count": 36,
   "metadata": {},
   "outputs": [
    {
     "data": {
      "text/plain": [
       "['甚至出现交易几乎停滞的情况。',\n",
       " '一二线城市虽然也处于调整中。',\n",
       " '大因为聚集了过多公共资源。',\n",
       " '为了规避三四线城市明显过剩的市场风险。',\n",
       " '标杆房企必然调整市场战略。',\n",
       " '因此土地储备至关重要。',\n",
       " '中原地产首席分析师张大伟说。',\n",
       " '一线城市土地供应量减少。',\n",
       " '也助推了土地市场的火爆。',\n",
       " '北京减薪僧住宅土地供应时松。']"
      ]
     },
     "execution_count": 36,
     "metadata": {},
     "output_type": "execute_result"
    }
   ],
   "source": [
    "decode_label[0:10]"
   ]
  },
  {
   "cell_type": "code",
   "execution_count": null,
   "metadata": {},
   "outputs": [],
   "source": []
  },
  {
   "cell_type": "markdown",
   "metadata": {},
   "source": [
    "### MAGICDATA"
   ]
  },
  {
   "cell_type": "code",
   "execution_count": 44,
   "metadata": {},
   "outputs": [],
   "source": [
    "file_path = '/home/users/jiangjin/jiangjin_bupt/ASR_CORRECTION/Cross_modal/TAP/data/zh/MAGICDATA/MAGICDATA_test.txt'\n",
    "with open(file_path, 'r') as f_zh_data:\n",
    "    data = f_zh_data.readlines()\n",
    "    utt = [item.split(' ')[0] for item in data]\n",
    "    label = [item.split(' ')[2] for item in data]\n",
    "    record = [item.split(' ')[1] for item in data]\n",
    "metric_value = metric.compute(references=label,predictions=record)"
   ]
  },
  {
   "cell_type": "code",
   "execution_count": 45,
   "metadata": {},
   "outputs": [
    {
     "data": {
      "text/plain": [
       "0.07398781866368245"
      ]
     },
     "execution_count": 45,
     "metadata": {},
     "output_type": "execute_result"
    }
   ],
   "source": [
    "metric_value"
   ]
  },
  {
   "cell_type": "code",
   "execution_count": 46,
   "metadata": {},
   "outputs": [
    {
     "data": {
      "text/plain": [
       "(['口口音乐。\\n',\n",
       "  '海天气海冷记得天衣保暖哦。\\n',\n",
       "  '人的能耐再大大不过天这雨转阴又变了天老天要下雨娘要嫁人由她去吧。\\n',\n",
       "  '播放二胡独奏。\\n',\n",
       "  '可是刮风了。\\n',\n",
       "  '南洋持续降雨水深路滑出行一定要注意埃且刚回家的路上我差点被冲进下水道。\\n',\n",
       "  '播放雪莉的歌曲。\\n',\n",
       "  '我想这出最好歌曲把歌词发到网上请别人帮我作曲接机。\\n',\n",
       "  '别说个大概齐说具体是哪首歌。\\n',\n",
       "  '除了自命不白和爱是一种幸福。\\n'],\n",
       " ['口口音乐。',\n",
       "  '嗨天气寒冷记得添衣保暖哦。',\n",
       "  '人的能耐再大大不过天阵雨转阴又变了天了天要下雨娘要嫁人由她去吧。',\n",
       "  '播放二胡独奏。',\n",
       "  '可是刮风了。',\n",
       "  '南阳持续降雨水深路滑出行一定要注意安全刚回家的路上我差点儿被冲进下水道。',\n",
       "  '播放雪莉的歌曲。',\n",
       "  '我想这出最好歌曲把歌词发到网上请别人帮我作曲急急。',\n",
       "  '别说个大概齐说具体是哪首歌。',\n",
       "  '除了自命不凡和爱是一种幸福。'])"
      ]
     },
     "execution_count": 46,
     "metadata": {},
     "output_type": "execute_result"
    }
   ],
   "source": [
    "label[0:10], record[0:10]"
   ]
  },
  {
   "cell_type": "code",
   "execution_count": 47,
   "metadata": {},
   "outputs": [],
   "source": [
    "text_tokenizer = zh_Tokenizer"
   ]
  },
  {
   "cell_type": "code",
   "execution_count": 48,
   "metadata": {},
   "outputs": [],
   "source": [
    "label_ids = text_tokenizer.batch_encode_plus(\n",
    "            label,\n",
    "            # max_length=self.config.max_seq_length,\n",
    "            padding='longest',\n",
    "            return_tensors='pt',\n",
    "            # truncation=True\n",
    "        )\n",
    "record_ids = text_tokenizer.batch_encode_plus(\n",
    "            record,\n",
    "            # max_length=self.config.max_seq_length,\n",
    "            padding='longest',\n",
    "            return_tensors='pt',\n",
    "            # truncation=True\n",
    "        )\n"
   ]
  },
  {
   "cell_type": "code",
   "execution_count": 49,
   "metadata": {},
   "outputs": [
    {
     "data": {
      "text/plain": [
       "torch.Size([24279, 74])"
      ]
     },
     "execution_count": 49,
     "metadata": {},
     "output_type": "execute_result"
    }
   ],
   "source": [
    "record_ids['input_ids'].shape"
   ]
  },
  {
   "cell_type": "code",
   "execution_count": 50,
   "metadata": {},
   "outputs": [],
   "source": [
    "decode_label = text_tokenizer.batch_decode(\n",
    "                    label_ids['input_ids'], skip_special_tokens=True)\n",
    "decode_record = text_tokenizer.batch_decode(\n",
    "                    record_ids['input_ids'], skip_special_tokens=True)"
   ]
  },
  {
   "cell_type": "code",
   "execution_count": 51,
   "metadata": {},
   "outputs": [],
   "source": [
    "decode_label  = [item.replace(' ', '') for item in decode_label]\n",
    "decode_record  = [item.replace(' ', '') for item in decode_record]"
   ]
  },
  {
   "cell_type": "code",
   "execution_count": 52,
   "metadata": {},
   "outputs": [],
   "source": [
    "metric_value = metric.compute(references=decode_label,predictions=decode_record)"
   ]
  },
  {
   "cell_type": "code",
   "execution_count": 53,
   "metadata": {},
   "outputs": [
    {
     "data": {
      "text/plain": [
       "0.07398837811577272"
      ]
     },
     "execution_count": 53,
     "metadata": {},
     "output_type": "execute_result"
    }
   ],
   "source": [
    "metric_value# 和这里的微小差距可能在，"
   ]
  },
  {
   "cell_type": "code",
   "execution_count": 54,
   "metadata": {},
   "outputs": [
    {
     "data": {
      "text/plain": [
       "['口口音乐。',\n",
       " '海天气海冷记得天衣保暖哦。',\n",
       " '人的能耐再大大不过天这雨转阴又变了天老天要下雨娘要嫁人由她去吧。',\n",
       " '播放二胡独奏。',\n",
       " '可是刮风了。',\n",
       " '南洋持续降雨水深路滑出行一定要注意埃且刚回家的路上我差点被冲进下水道。',\n",
       " '播放雪莉的歌曲。',\n",
       " '我想这出最好歌曲把歌词发到网上请别人帮我作曲接机。',\n",
       " '别说个大概齐说具体是哪首歌。',\n",
       " '除了自命不白和爱是一种幸福。']"
      ]
     },
     "execution_count": 54,
     "metadata": {},
     "output_type": "execute_result"
    }
   ],
   "source": [
    "decode_label[0:10]"
   ]
  },
  {
   "cell_type": "code",
   "execution_count": null,
   "metadata": {},
   "outputs": [],
   "source": []
  }
 ],
 "metadata": {
  "kernelspec": {
   "display_name": "Python 3",
   "language": "python",
   "name": "python3"
  },
  "language_info": {
   "codemirror_mode": {
    "name": "ipython",
    "version": 3
   },
   "file_extension": ".py",
   "mimetype": "text/x-python",
   "name": "python",
   "nbconvert_exporter": "python",
   "pygments_lexer": "ipython3",
   "version": "3.8.8"
  },
  "orig_nbformat": 4,
  "vscode": {
   "interpreter": {
    "hash": "5b3228b2b04fe574edc1cfad377da45b01c8bfafeb5d7448f83b83b0b5984135"
   }
  }
 },
 "nbformat": 4,
 "nbformat_minor": 2
}
